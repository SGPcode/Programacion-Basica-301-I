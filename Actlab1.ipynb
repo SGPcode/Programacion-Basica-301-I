{
  "nbformat": 4,
  "nbformat_minor": 0,
  "metadata": {
    "colab": {
      "provenance": [],
      "authorship_tag": "ABX9TyNpp+4skDjyh7ZE9j88g63O",
      "include_colab_link": true
    },
    "kernelspec": {
      "name": "python3",
      "display_name": "Python 3"
    },
    "language_info": {
      "name": "python"
    }
  },
  "cells": [
    {
      "cell_type": "markdown",
      "metadata": {
        "id": "view-in-github",
        "colab_type": "text"
      },
      "source": [
        "<a href=\"https://colab.research.google.com/github/SGPcode/Programacion-Basica-301-I/blob/main/Actlab1.ipynb\" target=\"_parent\"><img src=\"https://colab.research.google.com/assets/colab-badge.svg\" alt=\"Open In Colab\"/></a>"
      ]
    },
    {
      "cell_type": "markdown",
      "source": [
        "Actividad de Laboratorio #1"
      ],
      "metadata": {
        "id": "a6_NpfJRTFfd"
      }
    },
    {
      "cell_type": "markdown",
      "source": [
        "PB301_1.cpp Programa para mensajes de Bienvenida"
      ],
      "metadata": {
        "id": "Qv-1H1oxTQQL"
      }
    },
    {
      "cell_type": "code",
      "execution_count": 9,
      "metadata": {
        "colab": {
          "base_uri": "https://localhost:8080/"
        },
        "id": "HAJnB6_eStPA",
        "outputId": "239c63e0-e04a-48ed-fb79-f45d66552207"
      },
      "outputs": [
        {
          "output_type": "stream",
          "name": "stdout",
          "text": [
            "Overwriting PB301_1.cpp\n"
          ]
        }
      ],
      "source": [
        "%%writefile PB301_1.cpp\n",
        "//Programa para imprimir mensajes de Bienvenida\n",
        "//Creado por Sergio González Pérez\n",
        "//Fecha:17/Septiembre/2025\n",
        "//PB301_1.cpp\n",
        "#include <iostream>\n",
        "using namespace std;\n",
        "int main()\n",
        "{\n",
        "  cout<<\"Bienvenidos a Programación Básica en C++\\n\";\n",
        "  cout<<\"Este es el primer programa en C++\\n\";\n",
        "  return 0;\n",
        "}"
      ]
    },
    {
      "cell_type": "code",
      "source": [
        "!g++ PB301_1.cpp -o PB301_1.exe\n",
        "!./PB301_1.exe\n"
      ],
      "metadata": {
        "colab": {
          "base_uri": "https://localhost:8080/"
        },
        "id": "WSZeCRQqV9As",
        "outputId": "a22dd28d-9c59-45d7-c328-d672b4dcc2de"
      },
      "execution_count": 10,
      "outputs": [
        {
          "output_type": "stream",
          "name": "stdout",
          "text": [
            "Bienvenidos a Programación Básica en C++\n",
            "Este es el primer programa en C++\n"
          ]
        }
      ]
    }
  ]
}